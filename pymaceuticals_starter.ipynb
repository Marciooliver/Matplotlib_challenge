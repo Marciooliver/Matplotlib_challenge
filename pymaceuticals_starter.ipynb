{
 "cells": [
  {
   "cell_type": "markdown",
   "metadata": {},
   "source": [
    "## Observations and Insights"
   ]
  },
  {
   "cell_type": "markdown",
   "metadata": {},
   "source": []
  },
  {
   "cell_type": "markdown",
   "metadata": {},
   "source": [
    "## Dependencies and starter code"
   ]
  },
  {
   "cell_type": "code",
   "execution_count": 1,
   "metadata": {},
   "outputs": [
    {
     "data": {
      "text/html": [
       "<div>\n",
       "<style scoped>\n",
       "    .dataframe tbody tr th:only-of-type {\n",
       "        vertical-align: middle;\n",
       "    }\n",
       "\n",
       "    .dataframe tbody tr th {\n",
       "        vertical-align: top;\n",
       "    }\n",
       "\n",
       "    .dataframe thead th {\n",
       "        text-align: right;\n",
       "    }\n",
       "</style>\n",
       "<table border=\"1\" class=\"dataframe\">\n",
       "  <thead>\n",
       "    <tr style=\"text-align: right;\">\n",
       "      <th></th>\n",
       "      <th>Drug Regimen</th>\n",
       "      <th>Sex</th>\n",
       "      <th>Age_months</th>\n",
       "      <th>Weight (g)</th>\n",
       "      <th>Timepoint</th>\n",
       "      <th>Tumor_Volume</th>\n",
       "      <th>Metastatic Sites</th>\n",
       "    </tr>\n",
       "    <tr>\n",
       "      <th>Mouse ID</th>\n",
       "      <th></th>\n",
       "      <th></th>\n",
       "      <th></th>\n",
       "      <th></th>\n",
       "      <th></th>\n",
       "      <th></th>\n",
       "      <th></th>\n",
       "    </tr>\n",
       "  </thead>\n",
       "  <tbody>\n",
       "    <tr>\n",
       "      <td>k403</td>\n",
       "      <td>Ramicane</td>\n",
       "      <td>Male</td>\n",
       "      <td>21</td>\n",
       "      <td>16</td>\n",
       "      <td>0</td>\n",
       "      <td>45.000000</td>\n",
       "      <td>0</td>\n",
       "    </tr>\n",
       "    <tr>\n",
       "      <td>k403</td>\n",
       "      <td>Ramicane</td>\n",
       "      <td>Male</td>\n",
       "      <td>21</td>\n",
       "      <td>16</td>\n",
       "      <td>5</td>\n",
       "      <td>38.825898</td>\n",
       "      <td>0</td>\n",
       "    </tr>\n",
       "    <tr>\n",
       "      <td>k403</td>\n",
       "      <td>Ramicane</td>\n",
       "      <td>Male</td>\n",
       "      <td>21</td>\n",
       "      <td>16</td>\n",
       "      <td>10</td>\n",
       "      <td>35.014271</td>\n",
       "      <td>1</td>\n",
       "    </tr>\n",
       "    <tr>\n",
       "      <td>k403</td>\n",
       "      <td>Ramicane</td>\n",
       "      <td>Male</td>\n",
       "      <td>21</td>\n",
       "      <td>16</td>\n",
       "      <td>15</td>\n",
       "      <td>34.223992</td>\n",
       "      <td>1</td>\n",
       "    </tr>\n",
       "    <tr>\n",
       "      <td>k403</td>\n",
       "      <td>Ramicane</td>\n",
       "      <td>Male</td>\n",
       "      <td>21</td>\n",
       "      <td>16</td>\n",
       "      <td>20</td>\n",
       "      <td>32.997729</td>\n",
       "      <td>1</td>\n",
       "    </tr>\n",
       "    <tr>\n",
       "      <td>k403</td>\n",
       "      <td>Ramicane</td>\n",
       "      <td>Male</td>\n",
       "      <td>21</td>\n",
       "      <td>16</td>\n",
       "      <td>25</td>\n",
       "      <td>33.464577</td>\n",
       "      <td>1</td>\n",
       "    </tr>\n",
       "    <tr>\n",
       "      <td>k403</td>\n",
       "      <td>Ramicane</td>\n",
       "      <td>Male</td>\n",
       "      <td>21</td>\n",
       "      <td>16</td>\n",
       "      <td>30</td>\n",
       "      <td>31.099498</td>\n",
       "      <td>1</td>\n",
       "    </tr>\n",
       "    <tr>\n",
       "      <td>k403</td>\n",
       "      <td>Ramicane</td>\n",
       "      <td>Male</td>\n",
       "      <td>21</td>\n",
       "      <td>16</td>\n",
       "      <td>35</td>\n",
       "      <td>26.546993</td>\n",
       "      <td>1</td>\n",
       "    </tr>\n",
       "    <tr>\n",
       "      <td>k403</td>\n",
       "      <td>Ramicane</td>\n",
       "      <td>Male</td>\n",
       "      <td>21</td>\n",
       "      <td>16</td>\n",
       "      <td>40</td>\n",
       "      <td>24.365505</td>\n",
       "      <td>1</td>\n",
       "    </tr>\n",
       "    <tr>\n",
       "      <td>k403</td>\n",
       "      <td>Ramicane</td>\n",
       "      <td>Male</td>\n",
       "      <td>21</td>\n",
       "      <td>16</td>\n",
       "      <td>45</td>\n",
       "      <td>22.050126</td>\n",
       "      <td>1</td>\n",
       "    </tr>\n",
       "  </tbody>\n",
       "</table>\n",
       "</div>"
      ],
      "text/plain": [
       "         Drug Regimen   Sex  Age_months  Weight (g)  Timepoint  Tumor_Volume  \\\n",
       "Mouse ID                                                                       \n",
       "k403         Ramicane  Male          21          16          0     45.000000   \n",
       "k403         Ramicane  Male          21          16          5     38.825898   \n",
       "k403         Ramicane  Male          21          16         10     35.014271   \n",
       "k403         Ramicane  Male          21          16         15     34.223992   \n",
       "k403         Ramicane  Male          21          16         20     32.997729   \n",
       "k403         Ramicane  Male          21          16         25     33.464577   \n",
       "k403         Ramicane  Male          21          16         30     31.099498   \n",
       "k403         Ramicane  Male          21          16         35     26.546993   \n",
       "k403         Ramicane  Male          21          16         40     24.365505   \n",
       "k403         Ramicane  Male          21          16         45     22.050126   \n",
       "\n",
       "          Metastatic Sites  \n",
       "Mouse ID                    \n",
       "k403                     0  \n",
       "k403                     0  \n",
       "k403                     1  \n",
       "k403                     1  \n",
       "k403                     1  \n",
       "k403                     1  \n",
       "k403                     1  \n",
       "k403                     1  \n",
       "k403                     1  \n",
       "k403                     1  "
      ]
     },
     "execution_count": 1,
     "metadata": {},
     "output_type": "execute_result"
    }
   ],
   "source": [
    "# Dependencies and Setup\n",
    "import matplotlib.pyplot as plt\n",
    "import pandas as pd\n",
    "import scipy.stats as st\n",
    "import numpy as np\n",
    "from sklearn.linear_model import LinearRegression\n",
    "\n",
    "# Study data files\n",
    "mouse_metadata = \"data/Mouse_metadata.csv\"\n",
    "study_results = \"data/Study_results.csv\"\n",
    "\n",
    "# Read the mouse data and the study results\n",
    "mouse_metadata = pd.read_csv(mouse_metadata)\n",
    "study_results = pd.read_csv(study_results)\n",
    "\n",
    "# Combine the data into a single dataset\n",
    "combined_df = pd.merge(mouse_metadata, study_results)\n",
    "combined_df.rename(columns={'Tumor Volume (mm3)': 'Tumor_Volume'}, inplace=True)\n",
    "combined_df.set_index('Mouse ID').head(10)"
   ]
  },
  {
   "cell_type": "markdown",
   "metadata": {},
   "source": [
    "## Summary statistics"
   ]
  },
  {
   "cell_type": "code",
   "execution_count": 2,
   "metadata": {},
   "outputs": [
    {
     "data": {
      "text/html": [
       "<div>\n",
       "<style scoped>\n",
       "    .dataframe tbody tr th:only-of-type {\n",
       "        vertical-align: middle;\n",
       "    }\n",
       "\n",
       "    .dataframe tbody tr th {\n",
       "        vertical-align: top;\n",
       "    }\n",
       "\n",
       "    .dataframe thead th {\n",
       "        text-align: right;\n",
       "    }\n",
       "</style>\n",
       "<table border=\"1\" class=\"dataframe\">\n",
       "  <thead>\n",
       "    <tr style=\"text-align: right;\">\n",
       "      <th></th>\n",
       "      <th>Mean</th>\n",
       "      <th>Median</th>\n",
       "      <th>Variance</th>\n",
       "      <th>Std Deviation</th>\n",
       "      <th>SEM</th>\n",
       "      <th>Number of Tumors</th>\n",
       "    </tr>\n",
       "    <tr>\n",
       "      <th>Drug Regimen</th>\n",
       "      <th></th>\n",
       "      <th></th>\n",
       "      <th></th>\n",
       "      <th></th>\n",
       "      <th></th>\n",
       "      <th></th>\n",
       "    </tr>\n",
       "  </thead>\n",
       "  <tbody>\n",
       "    <tr>\n",
       "      <td>Capomulin</td>\n",
       "      <td>40.675741</td>\n",
       "      <td>41.557809</td>\n",
       "      <td>24.947764</td>\n",
       "      <td>4.994774</td>\n",
       "      <td>0.329346</td>\n",
       "      <td>230</td>\n",
       "    </tr>\n",
       "    <tr>\n",
       "      <td>Ceftamin</td>\n",
       "      <td>52.591172</td>\n",
       "      <td>51.776157</td>\n",
       "      <td>39.290177</td>\n",
       "      <td>6.268188</td>\n",
       "      <td>0.469821</td>\n",
       "      <td>178</td>\n",
       "    </tr>\n",
       "    <tr>\n",
       "      <td>Infubinol</td>\n",
       "      <td>52.884795</td>\n",
       "      <td>51.820584</td>\n",
       "      <td>43.128684</td>\n",
       "      <td>6.567243</td>\n",
       "      <td>0.492236</td>\n",
       "      <td>178</td>\n",
       "    </tr>\n",
       "    <tr>\n",
       "      <td>Ketapril</td>\n",
       "      <td>55.235638</td>\n",
       "      <td>53.698743</td>\n",
       "      <td>68.553577</td>\n",
       "      <td>8.279709</td>\n",
       "      <td>0.603860</td>\n",
       "      <td>188</td>\n",
       "    </tr>\n",
       "    <tr>\n",
       "      <td>Naftisol</td>\n",
       "      <td>54.331565</td>\n",
       "      <td>52.509285</td>\n",
       "      <td>66.173479</td>\n",
       "      <td>8.134708</td>\n",
       "      <td>0.596466</td>\n",
       "      <td>186</td>\n",
       "    </tr>\n",
       "    <tr>\n",
       "      <td>Placebo</td>\n",
       "      <td>54.033581</td>\n",
       "      <td>52.288934</td>\n",
       "      <td>61.168083</td>\n",
       "      <td>7.821003</td>\n",
       "      <td>0.581331</td>\n",
       "      <td>181</td>\n",
       "    </tr>\n",
       "    <tr>\n",
       "      <td>Propriva</td>\n",
       "      <td>52.322552</td>\n",
       "      <td>50.854632</td>\n",
       "      <td>42.351070</td>\n",
       "      <td>6.507770</td>\n",
       "      <td>0.512884</td>\n",
       "      <td>161</td>\n",
       "    </tr>\n",
       "    <tr>\n",
       "      <td>Ramicane</td>\n",
       "      <td>40.216745</td>\n",
       "      <td>40.673236</td>\n",
       "      <td>23.486704</td>\n",
       "      <td>4.846308</td>\n",
       "      <td>0.320955</td>\n",
       "      <td>228</td>\n",
       "    </tr>\n",
       "    <tr>\n",
       "      <td>Stelasyn</td>\n",
       "      <td>54.233149</td>\n",
       "      <td>52.431737</td>\n",
       "      <td>59.450562</td>\n",
       "      <td>7.710419</td>\n",
       "      <td>0.573111</td>\n",
       "      <td>181</td>\n",
       "    </tr>\n",
       "    <tr>\n",
       "      <td>Zoniferol</td>\n",
       "      <td>53.236507</td>\n",
       "      <td>51.818479</td>\n",
       "      <td>48.533355</td>\n",
       "      <td>6.966589</td>\n",
       "      <td>0.516398</td>\n",
       "      <td>182</td>\n",
       "    </tr>\n",
       "  </tbody>\n",
       "</table>\n",
       "</div>"
      ],
      "text/plain": [
       "                   Mean     Median   Variance  Std Deviation       SEM  \\\n",
       "Drug Regimen                                                             \n",
       "Capomulin     40.675741  41.557809  24.947764       4.994774  0.329346   \n",
       "Ceftamin      52.591172  51.776157  39.290177       6.268188  0.469821   \n",
       "Infubinol     52.884795  51.820584  43.128684       6.567243  0.492236   \n",
       "Ketapril      55.235638  53.698743  68.553577       8.279709  0.603860   \n",
       "Naftisol      54.331565  52.509285  66.173479       8.134708  0.596466   \n",
       "Placebo       54.033581  52.288934  61.168083       7.821003  0.581331   \n",
       "Propriva      52.322552  50.854632  42.351070       6.507770  0.512884   \n",
       "Ramicane      40.216745  40.673236  23.486704       4.846308  0.320955   \n",
       "Stelasyn      54.233149  52.431737  59.450562       7.710419  0.573111   \n",
       "Zoniferol     53.236507  51.818479  48.533355       6.966589  0.516398   \n",
       "\n",
       "              Number of Tumors  \n",
       "Drug Regimen                    \n",
       "Capomulin                  230  \n",
       "Ceftamin                   178  \n",
       "Infubinol                  178  \n",
       "Ketapril                   188  \n",
       "Naftisol                   186  \n",
       "Placebo                    181  \n",
       "Propriva                   161  \n",
       "Ramicane                   228  \n",
       "Stelasyn                   181  \n",
       "Zoniferol                  182  "
      ]
     },
     "execution_count": 2,
     "metadata": {},
     "output_type": "execute_result"
    }
   ],
   "source": [
    "# Question 1 - Generate a summary statistics table of mean, median, variance, standard deviation, \n",
    "#              and SEM of the tumor volume for each regimen\n",
    "\n",
    "regimen_df = combined_df.groupby('Drug Regimen')\n",
    "\n",
    "tumor_df= regimen_df.Tumor_Volume.agg(average_value=('mean'),\n",
    "                                    median_value=('median'),\n",
    "                                    variance_value=('var'),\n",
    "                                    standard_deviation=('std'),\n",
    "                                    standard_error=('sem'), count_size=('count')\n",
    "                                    ).rename(columns={'average_value':'Mean',\n",
    "                                                      'median_value':'Median',\n",
    "                                                      'variance_value':'Variance',\n",
    "                                                        'standard_deviation': 'Std Deviation',\n",
    "                                                         'standard_error':'SEM',\n",
    "                                                        'count_size':'Number of Tumors'\n",
    "                                                        })\n",
    "\n",
    "\n",
    "tumor_df"
   ]
  },
  {
   "cell_type": "markdown",
   "metadata": {},
   "source": [
    "## Bar plots"
   ]
  },
  {
   "cell_type": "code",
   "execution_count": 3,
   "metadata": {},
   "outputs": [
    {
     "data": {
      "text/plain": [
       "Text(0, 0.5, 'Number of Tumors')"
      ]
     },
     "execution_count": 3,
     "metadata": {},
     "output_type": "execute_result"
    },
    {
     "data": {
      "image/png": "[encoded data removed]",
      "text/plain": [
       "<Figure size 432x288 with 1 Axes>"
      ]
     },
     "metadata": {
      "needs_background": "light"
     },
     "output_type": "display_data"
    }
   ],
   "source": [
    "# Question 2 - Generate a bar plot showing number of data points for each treatment regimen using pandas\n",
    "\n",
    "drug_df= combined_df.groupby('Drug Regimen')['Tumor_Volume'].size().to_frame('Count').reset_index()\n",
    "\n",
    "ax = drug_df.plot.bar(x='Drug Regimen', y='Count', rot=0, title='Number of Tumors per Regimen')\n",
    "ax.set_xticklabels(drug_df['Drug Regimen'], rotation=90)\n",
    "ax.set_ylabel('Number of Tumors')"
   ]
  },
  {
   "cell_type": "code",
   "execution_count": 4,
   "metadata": {},
   "outputs": [
    {
     "data": {
      "text/plain": [
       "Text(0, 0.5, 'Number of Tumors')"
      ]
     },
     "execution_count": 4,
     "metadata": {},
     "output_type": "execute_result"
    },
    {
     "data": {
      "image/png": "[encoded data removed]",
      "text/plain": [
       "<Figure size 432x288 with 1 Axes>"
      ]
     },
     "metadata": {
      "needs_background": "light"
     },
     "output_type": "display_data"
    }
   ],
   "source": [
    "# Question 3 - Generate a bar plot showing number of data points for each treatment regimen using pyplot\n",
    "\n",
    "x_axis = np.arange(len(regimen_df))\n",
    "tick_locations = [value for value in x_axis]\n",
    "drug_list = tumor_df['Number of Tumors'].keys()\n",
    "\n",
    "\n",
    "#Set X dataset and visual attributions \n",
    "plt.bar(x_axis, tumor_df['Number of Tumors'], color='r', alpha=0.5, align=\"center\")\n",
    "plt.xticks(tick_locations, drug_list, rotation='vertical')\n",
    "\n",
    "\n",
    "# Set x and y limits\n",
    "plt.xlim(-0.55, len(x_axis)-0.43)\n",
    "plt.ylim(0, max(tumor_df[\"Number of Tumors\"])+10)\n",
    "\n",
    "# Set a Title and labels\n",
    "plt.title(\"Number of Tumors per Regimen\")\n",
    "plt.xlabel(\"Drug Regimen\")\n",
    "plt.ylabel(\"Number of Tumors\")"
   ]
  },
  {
   "cell_type": "markdown",
   "metadata": {},
   "source": [
    "## Pie plots"
   ]
  },
  {
   "cell_type": "code",
   "execution_count": 5,
   "metadata": {},
   "outputs": [
    {
     "data": {
      "text/plain": [
       "Text(0, 0.5, '')"
      ]
     },
     "execution_count": 5,
     "metadata": {},
     "output_type": "execute_result"
    },
    {
     "data": {
      "image/png": "[encoded data removed]",
      "text/plain": [
       "<Figure size 360x360 with 1 Axes>"
      ]
     },
     "metadata": {},
     "output_type": "display_data"
    }
   ],
   "source": [
    "# Question 4 - Generate a pie plot showing the distribution of female versus male mice using pandas\n",
    "\n",
    "#Get rid of duplicates\n",
    "no_dupli_mouse = combined_df.drop_duplicates(['Mouse ID'])\n",
    "\n",
    "#gender_counts\n",
    "gender_count = no_dupli_mouse.groupby(['Sex']).size().to_frame('Count')\n",
    "\n",
    "ax = gender_count.plot.pie(y='Count', figsize=(5,5), title='Distribution of Mice by Sex', autopct=\"%1.1f%%\", startangle=140)\n",
    "ax.set_ylabel('')"
   ]
  },
  {
   "cell_type": "code",
   "execution_count": 6,
   "metadata": {},
   "outputs": [
    {
     "data": {
      "image/png": "[encoded data removed]",
      "text/plain": [
       "<Figure size 432x288 with 1 Axes>"
      ]
     },
     "metadata": {},
     "output_type": "display_data"
    },
    {
     "data": {
      "text/plain": [
       "<Figure size 432x288 with 0 Axes>"
      ]
     },
     "metadata": {},
     "output_type": "display_data"
    }
   ],
   "source": [
    "# Question 5 - Generate a pie plot showing the distribution of female versus male mice using pyplot\n",
    "\n",
    "#Get rid of duplicates\n",
    "no_dupli_mouse = combined_df.drop_duplicates(['Mouse ID'])\n",
    "\n",
    "#gender_counts\n",
    "gender_count = no_dupli_mouse.groupby(['Sex']).size().to_frame('Count')\n",
    "\n",
    "gender_list = gender_count.keys()\n",
    "\n",
    "# Create a pie chart based upon the trip duration of that single bike\n",
    "gender_pie = gender_count.plot(kind=\"pie\", y=gender_list, startangle=140, autopct=\"%1.1f%%\", title=('Distribution of Mice by Sex'))\n",
    "gender_pie.set_ylabel(\"\")\n",
    "\n",
    "plt.axis(\"equal\")\n",
    "plt.show()\n",
    "plt.tight_layout()"
   ]
  },
  {
   "cell_type": "markdown",
   "metadata": {},
   "source": [
    "## Quartiles, outliers and boxplots"
   ]
  },
  {
   "cell_type": "code",
   "execution_count": 7,
   "metadata": {
    "scrolled": true
   },
   "outputs": [
    {
     "data": {
      "text/html": [
       "<div>\n",
       "<style scoped>\n",
       "    .dataframe tbody tr th:only-of-type {\n",
       "        vertical-align: middle;\n",
       "    }\n",
       "\n",
       "    .dataframe tbody tr th {\n",
       "        vertical-align: top;\n",
       "    }\n",
       "\n",
       "    .dataframe thead th {\n",
       "        text-align: right;\n",
       "    }\n",
       "</style>\n",
       "<table border=\"1\" class=\"dataframe\">\n",
       "  <thead>\n",
       "    <tr style=\"text-align: right;\">\n",
       "      <th></th>\n",
       "      <th>Tumor Volume Mean</th>\n",
       "    </tr>\n",
       "    <tr>\n",
       "      <th>Drug Regimen</th>\n",
       "      <th></th>\n",
       "    </tr>\n",
       "  </thead>\n",
       "  <tbody>\n",
       "    <tr>\n",
       "      <td>Ramicane</td>\n",
       "      <td>34.955595</td>\n",
       "    </tr>\n",
       "    <tr>\n",
       "      <td>Capomulin</td>\n",
       "      <td>36.236114</td>\n",
       "    </tr>\n",
       "    <tr>\n",
       "      <td>Ceftamin</td>\n",
       "      <td>64.132421</td>\n",
       "    </tr>\n",
       "    <tr>\n",
       "      <td>Infubinol</td>\n",
       "      <td>65.755562</td>\n",
       "    </tr>\n",
       "    <tr>\n",
       "      <td>Zoniferol</td>\n",
       "      <td>65.960888</td>\n",
       "    </tr>\n",
       "    <tr>\n",
       "      <td>Propriva</td>\n",
       "      <td>66.258529</td>\n",
       "    </tr>\n",
       "    <tr>\n",
       "      <td>Placebo</td>\n",
       "      <td>68.084082</td>\n",
       "    </tr>\n",
       "    <tr>\n",
       "      <td>Stelasyn</td>\n",
       "      <td>68.438310</td>\n",
       "    </tr>\n",
       "    <tr>\n",
       "      <td>Naftisol</td>\n",
       "      <td>69.265506</td>\n",
       "    </tr>\n",
       "    <tr>\n",
       "      <td>Ketapril</td>\n",
       "      <td>70.662958</td>\n",
       "    </tr>\n",
       "  </tbody>\n",
       "</table>\n",
       "</div>"
      ],
      "text/plain": [
       "              Tumor Volume Mean\n",
       "Drug Regimen                   \n",
       "Ramicane              34.955595\n",
       "Capomulin             36.236114\n",
       "Ceftamin              64.132421\n",
       "Infubinol             65.755562\n",
       "Zoniferol             65.960888\n",
       "Propriva              66.258529\n",
       "Placebo               68.084082\n",
       "Stelasyn              68.438310\n",
       "Naftisol              69.265506\n",
       "Ketapril              70.662958"
      ]
     },
     "execution_count": 7,
     "metadata": {},
     "output_type": "execute_result"
    }
   ],
   "source": [
    "# Question 6 - Calculate the final tumor volume of each mouse across four of the most promising treatment regimens.\n",
    "\n",
    "# Most promissing treatment regimens - Defined by variance (how far the tumor volume data \n",
    "# points are from the tumor volume mean). The smaller the better. It means that the final tumor\n",
    "# size is closer to the inicial tumor size.\n",
    "\n",
    "final_tumor_volume = combined_df[combined_df['Timepoint']== 45]\n",
    "mouse_df = final_tumor_volume.groupby(['Drug Regimen'])\n",
    "tumor_vol = mouse_df['Tumor_Volume'].mean().to_frame('Tumor Volume Mean')\n",
    "\n",
    "tumor_vol.sort_values(by='Tumor Volume Mean', ascending=True)\n"
   ]
  },
  {
   "cell_type": "code",
   "execution_count": 8,
   "metadata": {},
   "outputs": [
    {
     "data": {
      "text/html": [
       "<div>\n",
       "<style scoped>\n",
       "    .dataframe tbody tr th:only-of-type {\n",
       "        vertical-align: middle;\n",
       "    }\n",
       "\n",
       "    .dataframe tbody tr th {\n",
       "        vertical-align: top;\n",
       "    }\n",
       "\n",
       "    .dataframe thead th {\n",
       "        text-align: right;\n",
       "    }\n",
       "</style>\n",
       "<table border=\"1\" class=\"dataframe\">\n",
       "  <thead>\n",
       "    <tr style=\"text-align: right;\">\n",
       "      <th></th>\n",
       "      <th>Mouse ID</th>\n",
       "      <th>Drug Regimen</th>\n",
       "      <th>Sex</th>\n",
       "      <th>Age_months</th>\n",
       "      <th>Weight (g)</th>\n",
       "      <th>Timepoint</th>\n",
       "      <th>Tumor_Volume</th>\n",
       "      <th>Metastatic Sites</th>\n",
       "    </tr>\n",
       "  </thead>\n",
       "  <tbody>\n",
       "    <tr>\n",
       "      <td>9</td>\n",
       "      <td>k403</td>\n",
       "      <td>Ramicane</td>\n",
       "      <td>Male</td>\n",
       "      <td>21</td>\n",
       "      <td>16</td>\n",
       "      <td>45</td>\n",
       "      <td>22.050126</td>\n",
       "      <td>1</td>\n",
       "    </tr>\n",
       "    <tr>\n",
       "      <td>19</td>\n",
       "      <td>s185</td>\n",
       "      <td>Capomulin</td>\n",
       "      <td>Female</td>\n",
       "      <td>3</td>\n",
       "      <td>17</td>\n",
       "      <td>45</td>\n",
       "      <td>23.343598</td>\n",
       "      <td>1</td>\n",
       "    </tr>\n",
       "    <tr>\n",
       "      <td>39</td>\n",
       "      <td>m601</td>\n",
       "      <td>Capomulin</td>\n",
       "      <td>Male</td>\n",
       "      <td>22</td>\n",
       "      <td>17</td>\n",
       "      <td>45</td>\n",
       "      <td>28.430964</td>\n",
       "      <td>1</td>\n",
       "    </tr>\n",
       "    <tr>\n",
       "      <td>29</td>\n",
       "      <td>x401</td>\n",
       "      <td>Capomulin</td>\n",
       "      <td>Female</td>\n",
       "      <td>16</td>\n",
       "      <td>15</td>\n",
       "      <td>45</td>\n",
       "      <td>28.484033</td>\n",
       "      <td>0</td>\n",
       "    </tr>\n",
       "    <tr>\n",
       "      <td>49</td>\n",
       "      <td>g791</td>\n",
       "      <td>Ramicane</td>\n",
       "      <td>Male</td>\n",
       "      <td>11</td>\n",
       "      <td>16</td>\n",
       "      <td>45</td>\n",
       "      <td>29.128472</td>\n",
       "      <td>1</td>\n",
       "    </tr>\n",
       "    <tr>\n",
       "      <td>59</td>\n",
       "      <td>s508</td>\n",
       "      <td>Ramicane</td>\n",
       "      <td>Male</td>\n",
       "      <td>1</td>\n",
       "      <td>17</td>\n",
       "      <td>45</td>\n",
       "      <td>30.276232</td>\n",
       "      <td>0</td>\n",
       "    </tr>\n",
       "    <tr>\n",
       "      <td>74</td>\n",
       "      <td>m546</td>\n",
       "      <td>Ramicane</td>\n",
       "      <td>Male</td>\n",
       "      <td>18</td>\n",
       "      <td>16</td>\n",
       "      <td>45</td>\n",
       "      <td>30.564625</td>\n",
       "      <td>1</td>\n",
       "    </tr>\n",
       "    <tr>\n",
       "      <td>84</td>\n",
       "      <td>z578</td>\n",
       "      <td>Ramicane</td>\n",
       "      <td>Male</td>\n",
       "      <td>11</td>\n",
       "      <td>16</td>\n",
       "      <td>45</td>\n",
       "      <td>30.638696</td>\n",
       "      <td>0</td>\n",
       "    </tr>\n",
       "    <tr>\n",
       "      <td>104</td>\n",
       "      <td>u364</td>\n",
       "      <td>Capomulin</td>\n",
       "      <td>Male</td>\n",
       "      <td>18</td>\n",
       "      <td>17</td>\n",
       "      <td>45</td>\n",
       "      <td>31.023923</td>\n",
       "      <td>3</td>\n",
       "    </tr>\n",
       "    <tr>\n",
       "      <td>114</td>\n",
       "      <td>n364</td>\n",
       "      <td>Ramicane</td>\n",
       "      <td>Male</td>\n",
       "      <td>4</td>\n",
       "      <td>17</td>\n",
       "      <td>45</td>\n",
       "      <td>31.095335</td>\n",
       "      <td>1</td>\n",
       "    </tr>\n",
       "  </tbody>\n",
       "</table>\n",
       "</div>"
      ],
      "text/plain": [
       "    Mouse ID Drug Regimen     Sex  Age_months  Weight (g)  Timepoint  \\\n",
       "9       k403     Ramicane    Male          21          16         45   \n",
       "19      s185    Capomulin  Female           3          17         45   \n",
       "39      m601    Capomulin    Male          22          17         45   \n",
       "29      x401    Capomulin  Female          16          15         45   \n",
       "49      g791     Ramicane    Male          11          16         45   \n",
       "59      s508     Ramicane    Male           1          17         45   \n",
       "74      m546     Ramicane    Male          18          16         45   \n",
       "84      z578     Ramicane    Male          11          16         45   \n",
       "104     u364    Capomulin    Male          18          17         45   \n",
       "114     n364     Ramicane    Male           4          17         45   \n",
       "\n",
       "     Tumor_Volume  Metastatic Sites  \n",
       "9       22.050126                 1  \n",
       "19      23.343598                 1  \n",
       "39      28.430964                 1  \n",
       "29      28.484033                 0  \n",
       "49      29.128472                 1  \n",
       "59      30.276232                 0  \n",
       "74      30.564625                 1  \n",
       "84      30.638696                 0  \n",
       "104     31.023923                 3  \n",
       "114     31.095335                 1  "
      ]
     },
     "execution_count": 8,
     "metadata": {},
     "output_type": "execute_result"
    }
   ],
   "source": [
    "# Question 6' - Calculate the final tumor volume of each mouse across four of the most promising treatment regimens.\n",
    "\n",
    "final_tumor_volume.sort_values(by='Tumor_Volume', ascending=True).head(10)"
   ]
  },
  {
   "cell_type": "code",
   "execution_count": 9,
   "metadata": {},
   "outputs": [
    {
     "name": "stdout",
     "output_type": "stream",
     "text": [
      "The first quartile is 45.0, the third quartile is 56.3, and the interquartile range is 11.3.\n",
      "There are 19 outliers\n"
     ]
    }
   ],
   "source": [
    "# Question 7 - Calculate the IQR and quantitatively determine if there are any potential outliers.\n",
    "\n",
    "\n",
    "\n",
    "# First quartile (Q1) \n",
    "q1 = np.percentile(combined_df['Tumor_Volume'], 25, interpolation = 'midpoint') \n",
    "  \n",
    "# Third quartile (Q3) \n",
    "q3 = np.percentile(combined_df['Tumor_Volume'], 75, interpolation = 'midpoint') \n",
    "  \n",
    "# Interquaritle range (IQR) \n",
    "iqr = q3 - q1\n",
    "\n",
    "# Determine any potential outliers\n",
    "lower_bound = q1 -(1.5 * iqr) \n",
    "upper_bound = q3 +(1.5 * iqr)\n",
    "outliers = 0\n",
    "\n",
    "for volume in combined_df['Tumor_Volume']: \n",
    "    if volume > upper_bound or volume < lower_bound:\n",
    "        outliers += 1\n",
    "\n",
    "print('The first quartile is {:1.1f}, the third quartile is {:1.1f}, and the interquartile range is {:1.1f}.''\\n''There are {} outliers'.format(q1, q3, iqr,outliers))\n",
    "\n"
   ]
  },
  {
   "cell_type": "code",
   "execution_count": 10,
   "metadata": {},
   "outputs": [
    {
     "data": {
      "image/png": "[encoded data removed]",
      "text/plain": [
       "<Figure size 432x288 with 1 Axes>"
      ]
     },
     "metadata": {
      "needs_background": "light"
     },
     "output_type": "display_data"
    }
   ],
   "source": [
    "# Question 7'- Calculate the IQR - Boxplot\n",
    "\n",
    "combined_df.boxplot(column = 'Tumor_Volume');\n",
    "plt.title('Tumor Volume - IQR')\n",
    "plt.xlabel(\"Tumor\")\n",
    "plt.ylabel(\"Volume\")\n",
    "plt.show()"
   ]
  },
  {
   "cell_type": "code",
   "execution_count": 11,
   "metadata": {},
   "outputs": [
    {
     "data": {
      "text/plain": [
       "Text(0, 0.5, 'Tumor Volume (mm3)')"
      ]
     },
     "execution_count": 11,
     "metadata": {},
     "output_type": "execute_result"
    },
    {
     "data": {
      "image/png": "[encoded data removed]",
      "text/plain": [
       "<Figure size 432x288 with 1 Axes>"
      ]
     },
     "metadata": {
      "needs_background": "light"
     },
     "output_type": "display_data"
    }
   ],
   "source": [
    "# Question 8 - Generate a box plot of the final tumor volume of each mouse across four regimens of interest\n",
    "\n",
    "\n",
    "total_drug_df= combined_df[combined_df['Drug Regimen'].isin(['Ramicane','Capomulin','Ceftamin', 'Infubinol'])]\n",
    "\n",
    "final_volume = total_drug_df[total_drug_df['Timepoint']== 45]\n",
    "\n",
    "final_volume.boxplot(by=\"Drug Regimen\", column=\"Tumor_Volume\")\n",
    "plt.ylabel(\"Tumor Volume (mm3)\")\n"
   ]
  },
  {
   "cell_type": "markdown",
   "metadata": {},
   "source": [
    "## Line and scatter plots"
   ]
  },
  {
   "cell_type": "code",
   "execution_count": 12,
   "metadata": {},
   "outputs": [
    {
     "data": {
      "image/png": "[encoded data removed]",
      "text/plain": [
       "<Figure size 432x288 with 1 Axes>"
      ]
     },
     "metadata": {
      "needs_background": "light"
     },
     "output_type": "display_data"
    }
   ],
   "source": [
    "# Question 9 - Generate a line plot of time point versus tumor volume for a mouse treated with Capomulin\n",
    "\n",
    "capomulin_mouse_df = combined_df[combined_df['Mouse ID']== 's185']\n",
    "\n",
    "\n",
    "time_volume_df=pd.DataFrame({'time': capomulin_mouse_df['Timepoint'], 'volume': capomulin_mouse_df['Tumor_Volume']})\n",
    "plt.plot( 'time', 'volume', data=time_volume_df, color='skyblue', linewidth=3)\n",
    "plt.title('Capomulin - Time Points vs Tumor Volume')\n",
    "plt.xlabel(\"Time\")\n",
    "plt.ylabel(\"Tumor Volume (mm3)\")\n",
    "plt.show()"
   ]
  },
  {
   "cell_type": "code",
   "execution_count": 13,
   "metadata": {},
   "outputs": [
    {
     "data": {
      "text/plain": [
       "Text(0, 0.5, 'Average Tumor Volume (mm3)')"
      ]
     },
     "execution_count": 13,
     "metadata": {},
     "output_type": "execute_result"
    },
    {
     "data": {
      "image/png": "[encoded data removed]",
      "text/plain": [
       "<Figure size 432x288 with 1 Axes>"
      ]
     },
     "metadata": {
      "needs_background": "light"
     },
     "output_type": "display_data"
    }
   ],
   "source": [
    "# Question 10 - Generate a scatter plot of mouse weight versus average tumor volume for the Capomulin regimen\n",
    "capomulin_mouse_df = combined_df[combined_df['Drug Regimen']== 'Capomulin']\n",
    "average_tumor_df=capomulin_mouse_df.groupby(['Mouse ID']).mean()\n",
    "\n",
    "plt.scatter(average_tumor_df['Weight (g)'],average_tumor_df['Tumor_Volume'])\n",
    "plt.title('Average Mouse Weight vs Average Tumor Volume')\n",
    "plt.xlabel(\"Average Weight (g)\")\n",
    "plt.ylabel(\"Average Tumor Volume (mm3)\")"
   ]
  },
  {
   "cell_type": "code",
   "execution_count": 14,
   "metadata": {},
   "outputs": [
    {
     "name": "stdout",
     "output_type": "stream",
     "text": [
      "The correlation coefficient (Spearmans correlation) is 0.848:\n",
      "It indicates a notable correlation between weight and tumor volume\n"
     ]
    }
   ],
   "source": [
    "# Question 11 - Calculate the correlation coefficient for \n",
    "#               mouse weight and average tumor volume for the Capomulin regimen\n",
    "\n",
    "capomulin_mouse_df = combined_df[combined_df['Drug Regimen']== 'Capomulin']\n",
    "average_tumor_df=capomulin_mouse_df.groupby(['Mouse ID']).mean()\n",
    "\n",
    "corr, _ = st.spearmanr(average_tumor_df['Weight (g)'],average_tumor_df['Tumor_Volume'])\n",
    "print('The correlation coefficient (Spearmans correlation) is %.3f:''\\n''It indicates a notable correlation between weight and tumor volume' % corr)\n",
    "\n"
   ]
  },
  {
   "cell_type": "code",
   "execution_count": 15,
   "metadata": {},
   "outputs": [
    {
     "name": "stdout",
     "output_type": "stream",
     "text": [
      "Coefficient of determination (squared R): 0.71 (satisfactory value)\n",
      "Intercept (coefficient, b0): the model predicts the response 21.55 when x is zero\n",
      "Slope (coefficient, b1): the model predicts the response rises by 0.95 when x is increased by one\n"
     ]
    },
    {
     "data": {
      "image/png": "[encoded data removed]",
      "text/plain": [
       "<Figure size 432x288 with 1 Axes>"
      ]
     },
     "metadata": {
      "needs_background": "light"
     },
     "output_type": "display_data"
    }
   ],
   "source": [
    "# Question 11' - Linear regression model for \n",
    "#               mouse weight and average tumor volume for the Capomulin regimen\n",
    "\n",
    "#Defining data\n",
    "x= np.array(average_tumor_df['Weight (g)']).reshape((-1,1))\n",
    "y=np.array(average_tumor_df['Tumor_Volume'])\n",
    "\n",
    "#create a model and fit it\n",
    "model= LinearRegression().fit(x,y)\n",
    "\n",
    "#make predictions\n",
    "y_pred = model.predict(x)\n",
    "\n",
    "#get results\n",
    "r_sq = model.score(x, y)\n",
    "print('Coefficient of determination (squared R): %.2f (satisfactory value)' % r_sq)\n",
    "print('Intercept (coefficient, b0): the model predicts the response %.2f when x is zero' % model.intercept_)\n",
    "print('Slope (coefficient, b1): the model predicts the response rises by %.2f when x is increased by one' % model.coef_)\n",
    "\n",
    "plt.scatter(x, y)\n",
    "plt.plot(x, y_pred, color='red')\n",
    "plt.title('Capomulin Linear Regression - Mouse Weight vs Tumor Volume')\n",
    "plt.xlabel(\"Average Mouse Weight (g)\")\n",
    "plt.ylabel(\"Average Tumor Volume (mm3)\")\n",
    "plt.show()"
   ]
  }
 ],
 "metadata": {
  "anaconda-cloud": {},
  "kernelspec": {
   "display_name": "Python 3",
   "language": "python",
   "name": "python3"
  },
  "language_info": {
   "codemirror_mode": {
    "name": "ipython",
    "version": 3
   },
   "file_extension": ".py",
   "mimetype": "text/x-python",
   "name": "python",
   "nbconvert_exporter": "python",
   "pygments_lexer": "ipython3",
   "version": "3.7.4"
  }
 },
 "nbformat": 4,
 "nbformat_minor": 2
}
